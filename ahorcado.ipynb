{
 "cells": [
  {
   "cell_type": "markdown",
   "metadata": {},
   "source": [
    "## Juego del Ahorcado\n",
    "El funcionamiento es que vaya mostrando por pantalla ```_ _ _ _ _``` las rayas bajas correspondientes al número de letras que tiene la palabra a adivinar. El usuario deberá insertar una letra y, si esa letra existe, se mostrará o mostrarán las letras acertadas ```S _ S _ _```. \n",
    "\n",
    "Si falla, se mostrará el número de errores que lleva y, si lleva 6 errores, entonces se mostrará \"Fin del juego\".\n",
    "Encapsúlalo en una función."
   ]
  },
  {
   "cell_type": "code",
   "execution_count": 1,
   "metadata": {},
   "outputs": [],
   "source": [
    "import random"
   ]
  },
  {
   "cell_type": "code",
   "execution_count": 6,
   "metadata": {},
   "outputs": [
    {
     "name": "stdout",
     "output_type": "stream",
     "text": [
      "BOOTCAMP\n"
     ]
    }
   ],
   "source": [
    "lista_palabras = [\"Bootcamp\", \"RampUp\"]\n",
    "palabra_elegida = random.choice(lista_palabras)\n",
    "palabra_elegida = palabra_elegida.upper()\n",
    "print(palabra_elegida)"
   ]
  },
  {
   "cell_type": "code",
   "execution_count": 5,
   "metadata": {},
   "outputs": [
    {
     "name": "stdout",
     "output_type": "stream",
     "text": [
      "_ _ _ _ _ _\n"
     ]
    }
   ],
   "source": [
    "palabra_oculta = \"_\" * len(palabra_elegida)\n",
    "palabra_oculta = list(palabra_oculta)\n",
    "print(*palabra_oculta)"
   ]
  },
  {
   "cell_type": "code",
   "execution_count": 7,
   "metadata": {},
   "outputs": [
    {
     "name": "stdout",
     "output_type": "stream",
     "text": [
      "A\n"
     ]
    }
   ],
   "source": [
    "vidas = 6\n",
    "letra_usuario = input(\"Introduce una letra: \")\n",
    "letra_usuario = letra_usuario.upper()\n",
    "print(letra_usuario)"
   ]
  },
  {
   "cell_type": "code",
   "execution_count": 2,
   "metadata": {},
   "outputs": [
    {
     "name": "stdout",
     "output_type": "stream",
     "text": [
      "Has fallado!\n",
      "Vidas:5\n",
      "_ _ _ _ _ _ _ _\n",
      "Has fallado!\n",
      "Vidas:4\n",
      "_ _ _ _ _ _ _ _\n",
      "Has fallado!\n",
      "Vidas:3\n",
      "_ _ _ _ _ _ _ _\n",
      "Has fallado!\n",
      "Vidas:2\n",
      "_ _ _ _ _ _ _ _\n",
      "Has fallado!\n",
      "Vidas:1\n",
      "_ _ _ _ _ _ _ _\n",
      "Has fallado!\n",
      "Vidas:0\n",
      "_ _ _ _ _ _ _ _\n",
      "Has perdido :(\n"
     ]
    }
   ],
   "source": [
    "import random\n",
    "import time\n",
    "\n",
    "lista_palabras = [\"Bootcamp\", \"RampUp\"]\n",
    "palabra_elegida = random.choice(lista_palabras)\n",
    "palabra_elegida = palabra_elegida.upper()\n",
    "\n",
    "palabra_oculta = \"_\" * len(palabra_elegida)\n",
    "palabra_oculta = list(palabra_oculta)\n",
    "\n",
    "vidas = 6\n",
    "\n",
    "while vidas > 0:\n",
    "    time.sleep(1)\n",
    "    letra_usuario = input(\"Introduce una letra: \")\n",
    "    letra_usuario = letra_usuario.upper()\n",
    "\n",
    "    if letra_usuario in palabra_elegida:\n",
    "        for i in range(len(palabra_elegida)):\n",
    "            if palabra_elegida[i] == letra_usuario:\n",
    "                palabra_oculta[i] = letra_usuario\n",
    "        \n",
    "        if \"_\" not in palabra_oculta:\n",
    "            print(\"Has ganado!\")\n",
    "            print(*palabra_oculta)\n",
    "            break\n",
    "\n",
    "        print(\"Has acertado!\")\n",
    "        print(*palabra_oculta)\n",
    "\n",
    "    else:\n",
    "        vidas -= 1\n",
    "        print(\"Has fallado!\")\n",
    "        print(f'Vidas:{vidas}')\n",
    "        print(*palabra_oculta)\n",
    "\n",
    "\n",
    "        if vidas == 0:\n",
    "            print(\"Has perdido :(\")\n",
    "    "
   ]
  },
  {
   "cell_type": "code",
   "execution_count": 3,
   "metadata": {},
   "outputs": [],
   "source": [
    "def ahorcado(lista_palabras, vidas):\n",
    "\n",
    "    palabra_elegida = random.choice(lista_palabras)\n",
    "    palabra_elegida = palabra_elegida.upper()\n",
    "\n",
    "    palabra_oculta = \"_\" * len(palabra_elegida)\n",
    "    palabra_oculta = list(palabra_oculta)\n",
    "\n",
    "\n",
    "    while vidas > 0:\n",
    "        time.sleep(1)\n",
    "        letra_usuario = input(\"Introduce una letra: \")\n",
    "        letra_usuario = letra_usuario.upper()\n",
    "\n",
    "        if letra_usuario in palabra_elegida:\n",
    "            for i in range(len(palabra_elegida)):\n",
    "                if palabra_elegida[i] == letra_usuario:\n",
    "                    palabra_oculta[i] = letra_usuario\n",
    "            \n",
    "            if \"_\" not in palabra_oculta:\n",
    "                print(\"Has ganado!\")\n",
    "                print(*palabra_oculta)\n",
    "                break\n",
    "\n",
    "            print(\"Has acertado!\")\n",
    "            print(*palabra_oculta)\n",
    "\n",
    "        else:\n",
    "            vidas -= 1\n",
    "            print(\"Has fallado!\")\n",
    "            print(f'Vidas:{vidas}')\n",
    "            print(*palabra_oculta)\n",
    "\n",
    "\n",
    "            if vidas == 0:\n",
    "                print(\"Has perdido :(\")"
   ]
  },
  {
   "cell_type": "code",
   "execution_count": 4,
   "metadata": {},
   "outputs": [
    {
     "name": "stdout",
     "output_type": "stream",
     "text": [
      "Has acertado!\n",
      "_ _ _ A\n",
      "Has acertado!\n",
      "H _ _ A\n",
      "Has fallado!\n",
      "Vidas:2\n",
      "H _ _ A\n",
      "Has fallado!\n",
      "Vidas:1\n",
      "H _ _ A\n",
      "Has fallado!\n",
      "Vidas:0\n",
      "H _ _ A\n",
      "Has perdido :(\n"
     ]
    }
   ],
   "source": [
    "ahorcado([\"Hola\", \"Adios\"], 3)"
   ]
  }
 ],
 "metadata": {
  "kernelspec": {
   "display_name": "Python 3",
   "language": "python",
   "name": "python3"
  },
  "language_info": {
   "codemirror_mode": {
    "name": "ipython",
    "version": 3
   },
   "file_extension": ".py",
   "mimetype": "text/x-python",
   "name": "python",
   "nbconvert_exporter": "python",
   "pygments_lexer": "ipython3",
   "version": "3.10.2"
  },
  "orig_nbformat": 4,
  "vscode": {
   "interpreter": {
    "hash": "1e989a6a87260c027f3014f78a3a3d191394072689c96a40223c8499353d25ee"
   }
  }
 },
 "nbformat": 4,
 "nbformat_minor": 2
}
